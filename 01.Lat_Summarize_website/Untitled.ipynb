{
 "cells": [
  {
   "cell_type": "markdown",
   "id": "7a4fa9fe-45fe-4c4b-ac84-7cbea9c19545",
   "metadata": {},
   "source": [
    "## MENGGUNAKAN LLM (on premise) DAN MODEL LLAMA 3.2 "
   ]
  },
  {
   "cell_type": "code",
   "execution_count": null,
   "id": "44d7feb9-6696-49b0-95cf-c6125be49d28",
   "metadata": {},
   "outputs": [],
   "source": []
  }
 ],
 "metadata": {
  "kernelspec": {
   "display_name": "Python 3 (ipykernel)",
   "language": "python",
   "name": "python3"
  },
  "language_info": {
   "codemirror_mode": {
    "name": "ipython",
    "version": 3
   },
   "file_extension": ".py",
   "mimetype": "text/x-python",
   "name": "python",
   "nbconvert_exporter": "python",
   "pygments_lexer": "ipython3",
   "version": "3.11.13"
  }
 },
 "nbformat": 4,
 "nbformat_minor": 5
}
