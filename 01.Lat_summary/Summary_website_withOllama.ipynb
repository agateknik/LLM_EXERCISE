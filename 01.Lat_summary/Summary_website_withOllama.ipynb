{
 "cells": [
  {
   "cell_type": "markdown",
   "id": "694ff467-81d2-4523-ade3-126a42f9193f",
   "metadata": {},
   "source": [
    "## MEMBUAT SUMARY WEBSITE DENGAN OLLAMA DAN MODEL LLMA"
   ]
  },
  {
   "cell_type": "markdown",
   "id": "6f5e9f2b-c813-495c-8760-659fb4c617dd",
   "metadata": {},
   "source": [
    "Pastikan service OLLAMA sudah aktif.\n",
    "> Install OLLAMA bisa lihat di https://ollama.com/download\n",
    "> <br> cek status ollama klik ke browser URL = http://localhost:11434\n",
    "\n",
    "Model yang digunakan pada latihan ini \"llma3.2\".\n",
    "\n",
    "\n"
   ]
  },
  {
   "cell_type": "code",
   "execution_count": 3,
   "id": "9bd7403f-d3e7-4988-be4c-d2b26fa8222b",
   "metadata": {},
   "outputs": [],
   "source": [
    "#imports\n",
    "\n",
    "import os\n",
    "import requests\n",
    "from dotenv import load_dotenv\n",
    "from bs4 import BeautifulSoup\n",
    "from IPython.display import Markdown, display\n",
    "from openai import OpenAI\n"
   ]
  },
  {
   "cell_type": "code",
   "execution_count": 9,
   "id": "3308f390-2e97-483d-8f94-54167e9e9992",
   "metadata": {},
   "outputs": [],
   "source": [
    "#membuat koneksi ke  server onpremise Ollama\n",
    "openai = OpenAI(base_url='http://localhost:11434/v1', api_key='ollama')"
   ]
  },
  {
   "cell_type": "code",
   "execution_count": 26,
   "id": "dbff9bfb-ff88-429d-bf2c-d8b0362e90b0",
   "metadata": {},
   "outputs": [
    {
     "name": "stdout",
     "output_type": "stream",
     "text": [
      "It looks like you just sent a message! However, I don't see what's in the message. Could you please provide more context or clarify what you'd like to talk about?\n"
     ]
    }
   ],
   "source": [
    "#contoh membuat message prompt dan user prompt dengan model pada ollama\n",
    "\n",
    "message = \"Hello LLama !\"\n",
    "response = openai.chat.completions.create(model=\"llama3.2\", \n",
    "                                          messages = [{\"role\":\"user\", \"content\":\"message\"}]\n",
    "                                         )\n",
    "print(response.choices[0].message.content)\n"
   ]
  },
  {
   "cell_type": "markdown",
   "id": "3c79cb56-7ee2-4038-89d7-fceed9b21fce",
   "metadata": {
    "jp-MarkdownHeadingCollapsed": true
   },
   "source": [
    "## Membuat script python wraping sebuah website\n"
   ]
  },
  {
   "cell_type": "code",
   "execution_count": 27,
   "id": "dd294404-43be-4899-ad33-9345c0646950",
   "metadata": {},
   "outputs": [],
   "source": [
    "# membuat class Website dan library beutiful untuk warp sebuah halaman website\n",
    "headers = {\n",
    " \"User-Agent\": \"Mozilla/5.0 (Windows NT 10.0; Win64; x64) AppleWebKit/537.36 (KHTML, like Gecko) Chrome/117.0.0.0 Safari/537.36\"\n",
    "}\n",
    "\n",
    "class Website:\n",
    "\n",
    "    def __init__(self, url):\n",
    "        \"\"\"\n",
    "        Create this Website object from the given url using the BeautifulSoup library\n",
    "        \"\"\"\n",
    "        self.url = url\n",
    "        response = requests.get(url, headers=headers)\n",
    "        soup = BeautifulSoup(response.content, 'html.parser')\n",
    "        self.title = soup.title.string if soup.title else \"No title found\"\n",
    "        for irrelevant in soup.body([\"script\", \"style\", \"img\", \"input\"]):\n",
    "            irrelevant.decompose()\n",
    "        self.text = soup.body.get_text(separator=\"\\n\", strip=True)"
   ]
  },
  {
   "cell_type": "code",
   "execution_count": 29,
   "id": "3ba63efe-1f99-495e-b8ca-92b9d6a6af92",
   "metadata": {},
   "outputs": [
    {
     "name": "stdout",
     "output_type": "stream",
     "text": [
      "Home - rubythalib.ai\n",
      "Beranda\n",
      "AI Academy\n",
      "AI Services\n",
      "Portfolio\n",
      "Tentang Kami\n",
      "Blog\n",
      "Select Language\n",
      "Indonesian\n",
      "Indonesian\n",
      "Hubungi Kami\n",
      "Select Language\n",
      "Indonesian\n",
      "Indonesian\n",
      "Hubungi Kami\n",
      "Select Language\n",
      "Indonesian\n",
      "Indonesian\n",
      "Beranda\n",
      "AI Academy\n",
      "AI Services\n",
      "Portfolio\n",
      "Tentang Kami\n",
      "Blog\n",
      "Select Language\n",
      "Indonesian\n",
      "Indonesian\n",
      "Hubungi Kami\n",
      "Bisa kami bantu?\n",
      "Bisa kami bantu?\n",
      "Bisa kami bantu?\n",
      "Saya ingin implementasi AI di bisnis saya\n",
      "Saya ingin implementasi AI di bisnis saya\n",
      "Saya ingin belajar AI\n",
      "Saya ingin belajar AI\n",
      "Personal atau Tim\n",
      "Personal/Tim\n",
      "Saya ingin konsultasi langsung terkait AI\n",
      "Saya ingin konsultasi langsung terkait AI\n",
      "Copyright © 2025 rubythalib.ai.\n",
      "All Right Reserved.\n",
      "Navigasi\n",
      "Beranda\n",
      "AI Academy\n",
      "AI Services\n",
      "Portofolio\n",
      "Tentang Kami\n",
      "Blog\n",
      "Alamat\n",
      "Jl. Bengawan Solo No.43a, Semanggi, Kec. Ps. Kliwon, Kota Surakarta, Jawa Tengah 57117\n",
      "e-Mail\n",
      "ruby@rubythalib.ai\n",
      "Copyright © 2025 rubythalib.ai.\n",
      "All Right Reserved.\n",
      "Navigasi\n",
      "Beranda\n",
      "AI Academy\n",
      "AI Services\n",
      "Portofolio\n",
      "Tentang Kami\n",
      "Blog\n",
      "Alamat\n",
      "Jl. Bengawan Solo No.43a, Semanggi, Kec. Ps. Kliwon, Kota Surakarta, Jawa Tengah 57117\n",
      "e-Mail\n",
      "ruby@rubythalib.ai\n",
      "Copyright © 2025 rubythalib.ai.\n",
      "All Right Reserved.\n",
      "Navigasi\n",
      "Beranda\n",
      "AI Academy\n",
      "AI Services\n",
      "Portofolio\n",
      "Tentang Kami\n",
      "Blog\n",
      "Alamat\n",
      "Jl. Bengawan Solo No.43a, Semanggi, Kec. Ps. Kliwon, Kota Surakarta, Jawa Tengah 57117\n",
      "e-Mail\n",
      "ruby@rubythalib.ai\n",
      "Copyright © 2025 rubythalib.ai.\n",
      "All Right Reserved.\n",
      "Navigasi\n",
      "Beranda\n",
      "AI Academy\n",
      "AI Services\n",
      "Portofolio\n",
      "Tentang Kami\n",
      "Blog\n",
      "Alamat\n",
      "Jl. Bengawan Solo No.43a, Semanggi, Kec. Ps. Kliwon, Kota Surakarta, Jawa Tengah 57117\n",
      "e-Mail\n",
      "ruby@rubythalib.ai\n"
     ]
    }
   ],
   "source": [
    "hasil = Website(\"https://rubythalib.ai\")\n",
    "print(hasil.title)\n",
    "print(hasil.text)"
   ]
  },
  {
   "cell_type": "markdown",
   "id": "24bd2915-d9d7-4fe9-a070-f206a44666b3",
   "metadata": {},
   "source": [
    "## Type prompt\n",
    " Tipe prompt di LLM seperti chat GPT dibagi menjadi dua yaitu system prompt dan user prompt\n",
    "\n",
    " system prompt = memberitahukan tugas apa yang sistem lakukan dan nada apa yang harus mereka gunakan.\n",
    " <br>user prompt = teks dari user yang harus mereka balas\n"
   ]
  },
  {
   "cell_type": "code",
   "execution_count": 30,
   "id": "aee97498-efee-444d-aeac-64eb7be61657",
   "metadata": {},
   "outputs": [],
   "source": [
    "system_prompt = \"kamu adalah asisten yang ahli dalam menganalisa sebuah website dan memberikan ringkasan dari website tersebut\"\n",
    "system_prompt += \"Berikan jawaban dengan markdown\""
   ]
  },
  {
   "cell_type": "code",
   "execution_count": 31,
   "id": "c53b8248-cf81-4f4a-9655-fdc423feb7c5",
   "metadata": {},
   "outputs": [],
   "source": [
    "#membuat user prompt dan menjadikannya fungsi \n",
    "def user_prompt_for(website):\n",
    "    user_prompt = f\"You are looking at a website titled {website.title}\"\n",
    "    user_prompt += \"\\nThe contents of this website is as follows; \\\n",
    "please provide a short summary of this website in markdown. \\\n",
    "If it includes news or announcements, then summarize these too.\\n\\n\"\n",
    "    user_prompt += website.text\n",
    "    return user_prompt"
   ]
  },
  {
   "cell_type": "code",
   "execution_count": 34,
   "id": "5447b5ae-b042-4128-848e-f950732759d6",
   "metadata": {},
   "outputs": [
    {
     "name": "stdout",
     "output_type": "stream",
     "text": [
      "You are looking at a website titled Home - rubythalib.ai\n",
      "The contents of this website is as follows; please provide a short summary of this website in markdown. If it includes news or announcements, then summarize these too.\n",
      "\n",
      "Beranda\n",
      "AI Academy\n",
      "AI Services\n",
      "Portfolio\n",
      "Tentang Kami\n",
      "Blog\n",
      "Select Language\n",
      "Indonesian\n",
      "Indonesian\n",
      "Hubungi Kami\n",
      "Select Language\n",
      "Indonesian\n",
      "Indonesian\n",
      "Hubungi Kami\n",
      "Select Language\n",
      "Indonesian\n",
      "Indonesian\n",
      "Beranda\n",
      "AI Academy\n",
      "AI Services\n",
      "Portfolio\n",
      "Tentang Kami\n",
      "Blog\n",
      "Select Language\n",
      "Indonesian\n",
      "Indonesian\n",
      "Hubungi Kami\n",
      "Bisa kami bantu?\n",
      "Bisa kami bantu?\n",
      "Bisa kami bantu?\n",
      "Saya ingin implementasi AI di bisnis saya\n",
      "Saya ingin implementasi AI di bisnis saya\n",
      "Saya ingin belajar AI\n",
      "Saya ingin belajar AI\n",
      "Personal atau Tim\n",
      "Personal/Tim\n",
      "Saya ingin konsultasi langsung terkait AI\n",
      "Saya ingin konsultasi langsung terkait AI\n",
      "Copyright © 2025 rubythalib.ai.\n",
      "All Right Reserved.\n",
      "Navigasi\n",
      "Beranda\n",
      "AI Academy\n",
      "AI Services\n",
      "Portofolio\n",
      "Tentang Kami\n",
      "Blog\n",
      "Alamat\n",
      "Jl. Bengawan Solo No.43a, Semanggi, Kec. Ps. Kliwon, Kota Surakarta, Jawa Tengah 57117\n",
      "e-Mail\n",
      "ruby@rubythalib.ai\n",
      "Copyright © 2025 rubythalib.ai.\n",
      "All Right Reserved.\n",
      "Navigasi\n",
      "Beranda\n",
      "AI Academy\n",
      "AI Services\n",
      "Portofolio\n",
      "Tentang Kami\n",
      "Blog\n",
      "Alamat\n",
      "Jl. Bengawan Solo No.43a, Semanggi, Kec. Ps. Kliwon, Kota Surakarta, Jawa Tengah 57117\n",
      "e-Mail\n",
      "ruby@rubythalib.ai\n",
      "Copyright © 2025 rubythalib.ai.\n",
      "All Right Reserved.\n",
      "Navigasi\n",
      "Beranda\n",
      "AI Academy\n",
      "AI Services\n",
      "Portofolio\n",
      "Tentang Kami\n",
      "Blog\n",
      "Alamat\n",
      "Jl. Bengawan Solo No.43a, Semanggi, Kec. Ps. Kliwon, Kota Surakarta, Jawa Tengah 57117\n",
      "e-Mail\n",
      "ruby@rubythalib.ai\n",
      "Copyright © 2025 rubythalib.ai.\n",
      "All Right Reserved.\n",
      "Navigasi\n",
      "Beranda\n",
      "AI Academy\n",
      "AI Services\n",
      "Portofolio\n",
      "Tentang Kami\n",
      "Blog\n",
      "Alamat\n",
      "Jl. Bengawan Solo No.43a, Semanggi, Kec. Ps. Kliwon, Kota Surakarta, Jawa Tengah 57117\n",
      "e-Mail\n",
      "ruby@rubythalib.ai\n"
     ]
    }
   ],
   "source": [
    "#tes fungsinya \n",
    "print (user_prompt_for(hasil))"
   ]
  },
  {
   "cell_type": "markdown",
   "id": "2f01426d-4b56-4da1-b2f0-1bd5cb85df44",
   "metadata": {},
   "source": [
    "## PENGENALAN MESSAGE OPEN AI - STRUKTUR JSON\n",
    "\n",
    "Ini pesan struktur dari OpenAI yang digunakan, harus dihafal.\n",
    "\n",
    "[ <br>\n",
    "    {\"role\": \"system\", \"content\": \"system message goes here\"},<br>\n",
    "    {\"role\": \"user\", \"content\": \"user message goes here\"}<br>\n",
    "]\n"
   ]
  },
  {
   "cell_type": "code",
   "execution_count": 39,
   "id": "d62011e1-3e48-4215-99e8-7185d8fabe32",
   "metadata": {},
   "outputs": [],
   "source": [
    "messages = [\n",
    "    {\"role\": \"system\", \"content\": \"kamu asisten yang memberikan jawaban aneh\"},\n",
    "    {\"role\": \"user\", \"content\": \"berapa 1+1 ? give answer with indonesian language \"}\n",
    "]"
   ]
  },
  {
   "cell_type": "code",
   "execution_count": 40,
   "id": "26c9e786-3ce0-4e04-9120-1b226d07749b",
   "metadata": {},
   "outputs": [
    {
     "name": "stdout",
     "output_type": "stream",
     "text": [
      "Mau aku bilang... 2, tidak? \n",
      "Tapi sepertinya kalimat itu sedikit ambigu ya. Kalau kamu bertanya tentang hal apa, aku akan berusaha menjawabnya dengan lebih tepat.\n"
     ]
    }
   ],
   "source": [
    "#script response dari sebuah model dengan openai library\n",
    "response = openai.chat.completions.create(model=\"llama3.2\", messages=messages)\n",
    "print(response.choices[0].message.content)"
   ]
  },
  {
   "cell_type": "markdown",
   "id": "64c9b0c3-a6a7-4b37-8256-93293b2beb0d",
   "metadata": {},
   "source": [
    "## MARI LANJUT MEMERINTAHKAN MODEL LLMA UNTUK MENGANALISA WEBSITE"
   ]
  },
  {
   "cell_type": "code",
   "execution_count": 45,
   "id": "384220a1-6ed6-47e9-8afc-054f9afda29a",
   "metadata": {},
   "outputs": [],
   "source": [
    "#buat fungsi baru message \n",
    "def messages_for(website):\n",
    "    return [\n",
    "        {\"role\":\"system\", \"content\":system_prompt},\n",
    "        {\"role\": \"user\", \"content\": user_prompt_for(website)}\n",
    "    ]"
   ]
  },
  {
   "cell_type": "code",
   "execution_count": 46,
   "id": "4a4f7e85-05de-431d-b6b8-aae9ee29d43d",
   "metadata": {},
   "outputs": [
    {
     "name": "stdout",
     "output_type": "stream",
     "text": [
      "Saya akan memperhitungkan... dan jawabannya adalah... 2! Silakan, pertanyaan lainnya?\n"
     ]
    }
   ],
   "source": [
    "#buat response model\n",
    "\n",
    "response = openai.chat.completions.create(model=\"llama3.2\", messages=messages)\n",
    "print(response.choices[0].message.content)"
   ]
  },
  {
   "cell_type": "code",
   "execution_count": 47,
   "id": "e29b3a24-f653-4129-a57b-1dc350afd128",
   "metadata": {},
   "outputs": [
    {
     "data": {
      "text/plain": [
       "[{'role': 'system',\n",
       "  'content': 'kamu adalah asisten yang ahli dalam menganalisa sebuah website dan memberikan ringkasan dari website tersebutBerikan jawaban dengan markdown'},\n",
       " {'role': 'user',\n",
       "  'content': 'You are looking at a website titled Home - rubythalib.ai\\nThe contents of this website is as follows; please provide a short summary of this website in markdown. If it includes news or announcements, then summarize these too.\\n\\nBeranda\\nAI Academy\\nAI Services\\nPortfolio\\nTentang Kami\\nBlog\\nSelect Language\\nIndonesian\\nIndonesian\\nHubungi Kami\\nSelect Language\\nIndonesian\\nIndonesian\\nHubungi Kami\\nSelect Language\\nIndonesian\\nIndonesian\\nBeranda\\nAI Academy\\nAI Services\\nPortfolio\\nTentang Kami\\nBlog\\nSelect Language\\nIndonesian\\nIndonesian\\nHubungi Kami\\nBisa kami bantu?\\nBisa kami bantu?\\nBisa kami bantu?\\nSaya ingin implementasi AI di bisnis saya\\nSaya ingin implementasi AI di bisnis saya\\nSaya ingin belajar AI\\nSaya ingin belajar AI\\nPersonal atau Tim\\nPersonal/Tim\\nSaya ingin konsultasi langsung terkait AI\\nSaya ingin konsultasi langsung terkait AI\\nCopyright © 2025 rubythalib.ai.\\nAll Right Reserved.\\nNavigasi\\nBeranda\\nAI Academy\\nAI Services\\nPortofolio\\nTentang Kami\\nBlog\\nAlamat\\nJl. Bengawan Solo No.43a, Semanggi, Kec. Ps. Kliwon, Kota Surakarta, Jawa Tengah 57117\\ne-Mail\\nruby@rubythalib.ai\\nCopyright © 2025 rubythalib.ai.\\nAll Right Reserved.\\nNavigasi\\nBeranda\\nAI Academy\\nAI Services\\nPortofolio\\nTentang Kami\\nBlog\\nAlamat\\nJl. Bengawan Solo No.43a, Semanggi, Kec. Ps. Kliwon, Kota Surakarta, Jawa Tengah 57117\\ne-Mail\\nruby@rubythalib.ai\\nCopyright © 2025 rubythalib.ai.\\nAll Right Reserved.\\nNavigasi\\nBeranda\\nAI Academy\\nAI Services\\nPortofolio\\nTentang Kami\\nBlog\\nAlamat\\nJl. Bengawan Solo No.43a, Semanggi, Kec. Ps. Kliwon, Kota Surakarta, Jawa Tengah 57117\\ne-Mail\\nruby@rubythalib.ai\\nCopyright © 2025 rubythalib.ai.\\nAll Right Reserved.\\nNavigasi\\nBeranda\\nAI Academy\\nAI Services\\nPortofolio\\nTentang Kami\\nBlog\\nAlamat\\nJl. Bengawan Solo No.43a, Semanggi, Kec. Ps. Kliwon, Kota Surakarta, Jawa Tengah 57117\\ne-Mail\\nruby@rubythalib.ai'}]"
      ]
     },
     "execution_count": 47,
     "metadata": {},
     "output_type": "execute_result"
    }
   ],
   "source": [
    "messages_for(hasil)"
   ]
  },
  {
   "cell_type": "markdown",
   "id": "963a7e24-c577-4b78-8c53-19b25249fbcd",
   "metadata": {},
   "source": [
    "## MARI LANJUT MEMERINTAHKAN MODEL LLMA UNTUK MENGANALISA DAN MENSUMMARY"
   ]
  },
  {
   "cell_type": "code",
   "execution_count": 48,
   "id": "7d9f54fa-26a8-4fd0-8339-0449ed969ebd",
   "metadata": {},
   "outputs": [],
   "source": [
    "def summarize(url):\n",
    "    website = Website(url)\n",
    "    response = openai.chat.completions.create(\n",
    "        model = \"llama3.2\",\n",
    "        messages = messages_for(website)\n",
    "    )\n",
    "    return response.choices[0].message.content"
   ]
  },
  {
   "cell_type": "code",
   "execution_count": 49,
   "id": "4c6c51be-df58-4bcf-b769-2a4663651cc1",
   "metadata": {},
   "outputs": [
    {
     "data": {
      "text/plain": [
       "'**Ringkasan Website rubythlib.ai**\\n=====================================\\n\\nBerikut adalah ringkasan dari website rubythlib.ai:\\n\\n* **Tujuan**: Membantu pengguna implementasi AI di bisnis, belajar AI, dan memberikan konsultasi terkait AI.\\n* **Fitur**:\\n\\t+ Beranda: mengenalkan website dan layanan AI\\n\\t+ AI Academy: tempat pendidikan dan pelatihan AI\\n\\t+ AI Services: layanan implementasi AI di bisnis\\n\\t+ Portfolio: contoh proyek yang telah terselesaikan guna konsultan AI\\n\\t+ Blog: artikel terkait AI dan inovasi\\n\\t+ Hubungi Kami: cara menghubungi tim konsultan AI\\n* **Informasi Lokasi**:\\n\\t+ Alamat: Jl. Bengawan Solo No.43a, Semanggi, Kec. Ps. Kliwon, Kota Surakarta, Jawa Tengah 57117\\n\\t+ Telepon/Email: ruby@rubythalib.ai\\n* **Kredit**: Meninggalkan hak cipta dan privasi di setiap halaman.\\n\\nTidak ada informasi terkait berita atau pemberitahan yang ditemukan pada halaman tersebut.'"
      ]
     },
     "execution_count": 49,
     "metadata": {},
     "output_type": "execute_result"
    }
   ],
   "source": [
    "summarize(\"https://rubythalib.ai\")"
   ]
  },
  {
   "cell_type": "code",
   "execution_count": 50,
   "id": "e2d9434d-1782-42d2-9e38-c13603cb1b8b",
   "metadata": {},
   "outputs": [],
   "source": [
    "def display_summary(url):\n",
    "    summary = summarize(url)\n",
    "    display(Markdown(summary))"
   ]
  },
  {
   "cell_type": "code",
   "execution_count": 51,
   "id": "a49ccb46-ae82-44b9-afaa-659341e20cac",
   "metadata": {},
   "outputs": [
    {
     "data": {
      "text/markdown": [
       "# Ringkasan Website rubythalib.ai\n",
       "=====================================\n",
       "\n",
       "**Latar Belakang**\n",
       "Website rubythalib.ai memuat berbagai informasi tentang Akademi AI, layanan AI, dan proyek portfolios dari perusahaan yang bernama sama. Situs ini juga memiliki bagian tentang profil tim dan kontak.\n",
       "\n",
       "**Bagian Utama**\n",
       "*   **AI Academy**: Menyebarluaskan pengetahuan tentang teknologi AI.\n",
       "*   **AI Services**: Menawarkan jasa-konsultasi terkait implementasi AI di bisnis.\n",
       "*   **Portfolio**: Menggambarkan proyek-proyek AI yang telah dilakukan oleh tim dari perusahaan tersebut.\n",
       "*   **Tentang Kami**: Memberikan informasi tentang profil tim dan kontak.\n",
       "\n",
       "**Konten yang Terungkat**\n",
       "- Sebuah berita perusahaan ini \"Bisa kami bantu? Saya ingin implementasi AI di bisnis saya\"\n",
       "- Informasi kontak seperti e-mail dan alamat kantor perusahaan.\n",
       "- Afiliasi perusahaan ini untuk menyebarluaskan pengetahuan di Indonesia melalui bahasa setempat yaitu Indonesian."
      ],
      "text/plain": [
       "<IPython.core.display.Markdown object>"
      ]
     },
     "metadata": {},
     "output_type": "display_data"
    }
   ],
   "source": [
    "display_summary(\"https://rubythalib.ai\")"
   ]
  },
  {
   "cell_type": "markdown",
   "id": "5fe9d139-6b05-4d68-85ab-c3e2b0e62575",
   "metadata": {},
   "source": [
    "## coba website lain\n"
   ]
  },
  {
   "cell_type": "raw",
   "id": "0fce8fff-9bcc-46e1-9292-78379a115a10",
   "metadata": {},
   "source": [
    "Untuk website yang dibangun menggunakan javascript tidak bisa di grab dengan fungsi class dari library BeautifulSoap. \n",
    "Namun, bisa menggunakan selenium untuk merender website javascript tersebut."
   ]
  },
  {
   "cell_type": "code",
   "execution_count": 53,
   "id": "8b90a66b-5715-44d3-960c-16be06ce406f",
   "metadata": {},
   "outputs": [
    {
     "data": {
      "text/markdown": [
       "**Ringkasan Website Profesional Training Web, Mobile App dan Data Science untuk Perusahaan - Rumah Coding**\n",
       "====================================================\n",
       "\n",
       "**Latar Belakang**\n",
       "---------------\n",
       "\n",
       "Rumah Coding adalah provider training IT yang menawarkan berbagai program training di bidang web development, mobile app development, data science, dan lain-lain. Mereka juga menyediakan layanan service IT untuk perusahaan.\n",
       "\n",
       "**Konten**\n",
       "---------\n",
       "\n",
       "*   Training: Rumah Coding menawarkan lebih dari 20 program training di bidang web development, mobile app development, data science, dan lain-lain. Mereka memiliki kemampuan untuk membersihkan dan memperbaiki keamanan sitem situs.\n",
       "*   Akademik: Rumah tidak hanya memberikan pelatihan proyek untuk membantu kamu lebih mudah untuk memahami pembelajaran secara sistematis, namun juga memberikan akomodasi khusus untuk proses belajar mengajar di ruangan.  Keberagaman adalah yang paling berharga yang seharusnya dapat diciumkan pada setiap kegiatan.\n",
       "\n",
       "**Layanan**\n",
       "---------\n",
       "\n",
       "*   Training: Rumah Coding menawarkan layanan training untuk perusahaan dan individu.\n",
       "*   Service IT: Mereka juga menyediakan layanan service IT untuk perusahaan, termasuk pengelolaan sistem teknis dan pemulihan data.\n",
       "\n",
       "**Trainer**\n",
       "---------\n",
       "\n",
       "Rumah memiliki tim trainer yang berpengalaman di bidang web development, mobile app development, data science, dan lain-lain. Mereka telah terlatih dan berpengalaman dalam menyampaikan informasi kepada siswa dengan baik.\n",
       "\n",
       "**Testimoni**\n",
       "-------------\n",
       "\n",
       "*   \"Saya sangat puas dengan layanan training Rumah Coding. Trainer mereka sangat profesional dan mengajar dengan cara yang efektif.\"\n",
       "*   \"Rumah Coding sangat membantu saya dalam memahami materi yang sulit. Saya sangat berterima kasih kepada mereka.\"\n",
       "\n",
       "**Kontak**\n",
       "---------\n",
       "\n",
       "Untuk mendapatkan informasi lebih lanjut dan untuk memesan layanan training, Anda dapat menghubungi Rumah Coding di:\n",
       "\n",
       "*   Alamat: PT. Sahoot Indonesia Pratama, South Quarter Tower A Lt. 18 Unit D-H Jl. R.A. Kartini Kav 8 Cilandak Baru, Cilandak, Jakarta Selatan\n",
       "*   Telepon: (021) XXXX XXXX\n",
       "*   Email: [email protected]\n",
       "\n",
       "**Situs Web**\n",
       "-------------\n",
       "\n",
       "Rumah Coding dapat dihubungi melalui website mereka di **[www.rumahcoding.com](http://www.rumahcoding.com)**"
      ],
      "text/plain": [
       "<IPython.core.display.Markdown object>"
      ]
     },
     "metadata": {},
     "output_type": "display_data"
    }
   ],
   "source": [
    "display_summary(\"https://rumahcoding.co.id\")"
   ]
  },
  {
   "cell_type": "markdown",
   "id": "8d0f509b-5449-46d7-857c-5fb5207efdfa",
   "metadata": {},
   "source": []
  }
 ],
 "metadata": {
  "kernelspec": {
   "display_name": "Python 3 (ipykernel)",
   "language": "python",
   "name": "python3"
  },
  "language_info": {
   "codemirror_mode": {
    "name": "ipython",
    "version": 3
   },
   "file_extension": ".py",
   "mimetype": "text/x-python",
   "name": "python",
   "nbconvert_exporter": "python",
   "pygments_lexer": "ipython3",
   "version": "3.11.13"
  }
 },
 "nbformat": 4,
 "nbformat_minor": 5
}
