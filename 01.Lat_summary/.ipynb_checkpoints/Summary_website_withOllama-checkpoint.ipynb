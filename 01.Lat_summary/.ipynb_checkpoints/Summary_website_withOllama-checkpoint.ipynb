{
 "cells": [
  {
   "cell_type": "markdown",
   "id": "694ff467-81d2-4523-ade3-126a42f9193f",
   "metadata": {},
   "source": [
    "## MEMBUAT SUMARY WEBSITE DENGAN OLLAMA DAN MODEL LLMA"
   ]
  },
  {
   "cell_type": "markdown",
   "id": "6f5e9f2b-c813-495c-8760-659fb4c617dd",
   "metadata": {},
   "source": [
    "Pastikan service OLLAMA sudah aktif.\n",
    "> Install OLLAMA bisa lihat di https://ollama.com/download\n",
    "> <br> cek status ollama klik ke browser URL = http://localhost:11434\n",
    "\n",
    "Model yang digunakan pada latihan ini \"llma3.2\".\n",
    "\n",
    "\n"
   ]
  },
  {
   "cell_type": "code",
   "execution_count": null,
   "id": "9bd7403f-d3e7-4988-be4c-d2b26fa8222b",
   "metadata": {},
   "outputs": [],
   "source": [
    "#imports\n",
    "\n",
    "import os\n",
    "import requests\n",
    "from dotenv import load_dotenv\n",
    "from bs4 import BeautifulSoup\n",
    "from IPython.display import Markdown, display\n",
    "from openai import OpenAI\n"
   ]
  },
  {
   "cell_type": "code",
   "execution_count": null,
   "id": "3308f390-2e97-483d-8f94-54167e9e9992",
   "metadata": {},
   "outputs": [],
   "source": [
    "#membuat koneksi ke  server onpremise Ollama\n",
    "openai = OpenAI(base_url='http://localhost:11434/v1', api_key='ollama')"
   ]
  },
  {
   "cell_type": "code",
   "execution_count": null,
   "id": "dbff9bfb-ff88-429d-bf2c-d8b0362e90b0",
   "metadata": {},
   "outputs": [],
   "source": [
    "#contoh membuat message prompt dan user prompt dengan model pada ollama\n",
    "\n",
    "message = \"Hello LLama !\"\n",
    "response = openai.chat.completions.create(model=\"llama3.2\", \n",
    "                                          messages = [{\"role\":\"user\", \"content\":\"message\"}]\n",
    "                                         )\n",
    "print(response.choices[0].message.content)\n"
   ]
  },
  {
   "cell_type": "markdown",
   "id": "3c79cb56-7ee2-4038-89d7-fceed9b21fce",
   "metadata": {
    "jp-MarkdownHeadingCollapsed": true
   },
   "source": [
    "## Membuat script python wraping sebuah website\n"
   ]
  },
  {
   "cell_type": "code",
   "execution_count": null,
   "id": "dd294404-43be-4899-ad33-9345c0646950",
   "metadata": {},
   "outputs": [],
   "source": [
    "# membuat class Website dan library beutiful untuk warp sebuah halaman website\n",
    "headers = {\n",
    " \"User-Agent\": \"Mozilla/5.0 (Windows NT 10.0; Win64; x64) AppleWebKit/537.36 (KHTML, like Gecko) Chrome/117.0.0.0 Safari/537.36\"\n",
    "}\n",
    "\n",
    "class Website:\n",
    "\n",
    "    def __init__(self, url):\n",
    "        \"\"\"\n",
    "        Create this Website object from the given url using the BeautifulSoup library\n",
    "        \"\"\"\n",
    "        self.url = url\n",
    "        response = requests.get(url, headers=headers)\n",
    "        soup = BeautifulSoup(response.content, 'html.parser')\n",
    "        self.title = soup.title.string if soup.title else \"No title found\"\n",
    "        for irrelevant in soup.body([\"script\", \"style\", \"img\", \"input\"]):\n",
    "            irrelevant.decompose()\n",
    "        self.text = soup.body.get_text(separator=\"\\n\", strip=True)"
   ]
  },
  {
   "cell_type": "code",
   "execution_count": null,
   "id": "3ba63efe-1f99-495e-b8ca-92b9d6a6af92",
   "metadata": {},
   "outputs": [],
   "source": [
    "hasil = Website(\"https://rubythalib.ai\")\n",
    "print(hasil.title)\n",
    "print(hasil.text)"
   ]
  },
  {
   "cell_type": "markdown",
   "id": "24bd2915-d9d7-4fe9-a070-f206a44666b3",
   "metadata": {},
   "source": [
    "## Type prompt\n",
    " Tipe prompt di LLM seperti chat GPT dibagi menjadi dua yaitu system prompt dan user prompt\n",
    "\n",
    " system prompt = memberitahukan tugas apa yang sistem lakukan dan nada apa yang harus mereka gunakan.\n",
    " <br>user prompt = teks dari user yang harus mereka balas\n"
   ]
  },
  {
   "cell_type": "code",
   "execution_count": null,
   "id": "aee97498-efee-444d-aeac-64eb7be61657",
   "metadata": {},
   "outputs": [],
   "source": [
    "system_prompt = \"kamu adalah asisten yang ahli dalam menganalisa sebuah website dan memberikan ringkasan dari website tersebut\"\n",
    "system_prompt += \"Berikan jawaban dengan markdown\""
   ]
  },
  {
   "cell_type": "code",
   "execution_count": null,
   "id": "c53b8248-cf81-4f4a-9655-fdc423feb7c5",
   "metadata": {},
   "outputs": [],
   "source": [
    "#membuat user prompt dan menjadikannya fungsi \n",
    "def user_prompt_for(website):\n",
    "    user_prompt = f\"You are looking at a website titled {website.title}\"\n",
    "    user_prompt += \"\\nThe contents of this website is as follows; \\\n",
    "please provide a short summary of this website in markdown. \\\n",
    "If it includes news or announcements, then summarize these too.\\n\\n\"\n",
    "    user_prompt += website.text\n",
    "    return user_prompt"
   ]
  },
  {
   "cell_type": "code",
   "execution_count": null,
   "id": "5447b5ae-b042-4128-848e-f950732759d6",
   "metadata": {},
   "outputs": [],
   "source": [
    "#tes fungsinya \n",
    "print (user_prompt_for(hasil))"
   ]
  },
  {
   "cell_type": "markdown",
   "id": "2f01426d-4b56-4da1-b2f0-1bd5cb85df44",
   "metadata": {},
   "source": [
    "## PENGENALAN MESSAGE OPEN AI - STRUKTUR JSON\n",
    "\n",
    "Ini pesan struktur dari OpenAI yang digunakan, harus dihafal.\n",
    "\n",
    "[ <br>\n",
    "    {\"role\": \"system\", \"content\": \"system message goes here\"},<br>\n",
    "    {\"role\": \"user\", \"content\": \"user message goes here\"}<br>\n",
    "]\n"
   ]
  },
  {
   "cell_type": "code",
   "execution_count": null,
   "id": "d62011e1-3e48-4215-99e8-7185d8fabe32",
   "metadata": {},
   "outputs": [],
   "source": [
    "messages = [\n",
    "    {\"role\": \"system\", \"content\": \"kamu asisten yang memberikan jawaban aneh\"},\n",
    "    {\"role\": \"user\", \"content\": \"berapa 1+1 ? give answer with indonesian language \"}\n",
    "]"
   ]
  },
  {
   "cell_type": "code",
   "execution_count": null,
   "id": "26c9e786-3ce0-4e04-9120-1b226d07749b",
   "metadata": {},
   "outputs": [],
   "source": [
    "#script response dari sebuah model dengan openai library\n",
    "response = openai.chat.completions.create(model=\"llama3.2\", messages=messages)\n",
    "print(response.choices[0].message.content)"
   ]
  },
  {
   "cell_type": "markdown",
   "id": "64c9b0c3-a6a7-4b37-8256-93293b2beb0d",
   "metadata": {},
   "source": [
    "## MARI LANJUT MEMERINTAHKAN MODEL LLMA UNTUK MENGANALISA WEBSITE"
   ]
  },
  {
   "cell_type": "code",
   "execution_count": null,
   "id": "384220a1-6ed6-47e9-8afc-054f9afda29a",
   "metadata": {},
   "outputs": [],
   "source": [
    "#buat fungsi baru message \n",
    "def messages_for(website):\n",
    "    return [\n",
    "        {\"role\":\"system\", \"content\":system_prompt},\n",
    "        {\"role\": \"user\", \"content\": user_prompt_for(website)}\n",
    "    ]"
   ]
  },
  {
   "cell_type": "code",
   "execution_count": null,
   "id": "4a4f7e85-05de-431d-b6b8-aae9ee29d43d",
   "metadata": {},
   "outputs": [],
   "source": [
    "#buat response model\n",
    "\n",
    "response = openai.chat.completions.create(model=\"llama3.2\", messages=messages)\n",
    "print(response.choices[0].message.content)"
   ]
  },
  {
   "cell_type": "code",
   "execution_count": null,
   "id": "e29b3a24-f653-4129-a57b-1dc350afd128",
   "metadata": {},
   "outputs": [],
   "source": [
    "messages_for(hasil)"
   ]
  },
  {
   "cell_type": "markdown",
   "id": "963a7e24-c577-4b78-8c53-19b25249fbcd",
   "metadata": {},
   "source": [
    "## MARI LANJUT MEMERINTAHKAN MODEL LLMA UNTUK MENGANALISA DAN MENSUMMARY"
   ]
  },
  {
   "cell_type": "code",
   "execution_count": null,
   "id": "7d9f54fa-26a8-4fd0-8339-0449ed969ebd",
   "metadata": {},
   "outputs": [],
   "source": [
    "def summarize(url):\n",
    "    website = Website(url)\n",
    "    response = openai.chat.completions.create(\n",
    "        model = \"llama3.2\",\n",
    "        messages = messages_for(website)\n",
    "    )\n",
    "    return response.choices[0].message.content"
   ]
  },
  {
   "cell_type": "code",
   "execution_count": null,
   "id": "4c6c51be-df58-4bcf-b769-2a4663651cc1",
   "metadata": {},
   "outputs": [],
   "source": [
    "summarize(\"https://rubythalib.ai\")"
   ]
  },
  {
   "cell_type": "code",
   "execution_count": null,
   "id": "e2d9434d-1782-42d2-9e38-c13603cb1b8b",
   "metadata": {},
   "outputs": [],
   "source": [
    "def display_summary(url):\n",
    "    summary = summarize(url)\n",
    "    display(Markdown(summary))"
   ]
  },
  {
   "cell_type": "code",
   "execution_count": null,
   "id": "a49ccb46-ae82-44b9-afaa-659341e20cac",
   "metadata": {},
   "outputs": [],
   "source": [
    "display_summary(\"https://rubythalib.ai\")"
   ]
  },
  {
   "cell_type": "markdown",
   "id": "5fe9d139-6b05-4d68-85ab-c3e2b0e62575",
   "metadata": {},
   "source": [
    "## coba website lain\n"
   ]
  },
  {
   "cell_type": "raw",
   "id": "0fce8fff-9bcc-46e1-9292-78379a115a10",
   "metadata": {},
   "source": [
    "Untuk website yang dibangun menggunakan javascript tidak bisa di grab dengan fungsi class dari library BeautifulSoap. \n",
    "Namun, bisa menggunakan selenium untuk merender website javascript tersebut."
   ]
  },
  {
   "cell_type": "code",
   "execution_count": null,
   "id": "8b90a66b-5715-44d3-960c-16be06ce406f",
   "metadata": {},
   "outputs": [],
   "source": [
    "display_summary(\"https://rumahcoding.co.id\")"
   ]
  },
  {
   "cell_type": "markdown",
   "id": "8d0f509b-5449-46d7-857c-5fb5207efdfa",
   "metadata": {},
   "source": []
  }
 ],
 "metadata": {
  "kernelspec": {
   "display_name": "Python 3 (ipykernel)",
   "language": "python",
   "name": "python3"
  },
  "language_info": {
   "codemirror_mode": {
    "name": "ipython",
    "version": 3
   },
   "file_extension": ".py",
   "mimetype": "text/x-python",
   "name": "python",
   "nbconvert_exporter": "python",
   "pygments_lexer": "ipython3",
   "version": "3.11.13"
  }
 },
 "nbformat": 4,
 "nbformat_minor": 5
}
