{
 "cells": [
  {
   "cell_type": "markdown",
   "id": "6d90540a-52ed-4c1a-ba9e-ed90efa2ac5f",
   "metadata": {},
   "source": [
    "## MEMBUAT RINGASAN WEBSITE MENGGUNAKAN OPEN AI"
   ]
  },
  {
   "cell_type": "code",
   "execution_count": 1,
   "id": "72fbc1cf-c493-46d3-b836-2f60b80ba185",
   "metadata": {},
   "outputs": [
    {
     "name": "stdout",
     "output_type": "stream",
     "text": [
      "Collecting seleniumNote: you may need to restart the kernel to use updated packages.\n",
      "\n",
      "  Downloading selenium-4.34.0-py3-none-any.whl.metadata (7.5 kB)\n",
      "Collecting webdriver-manager\n",
      "  Downloading webdriver_manager-4.0.2-py2.py3-none-any.whl.metadata (12 kB)\n",
      "Requirement already satisfied: urllib3~=2.4.0 in c:\\users\\zenbook duo\\anaconda3\\envs\\llms\\lib\\site-packages (from urllib3[socks]~=2.4.0->selenium) (2.4.0)\n",
      "Collecting trio~=0.30.0 (from selenium)\n",
      "  Downloading trio-0.30.0-py3-none-any.whl.metadata (8.5 kB)\n",
      "Collecting trio-websocket~=0.12.2 (from selenium)\n",
      "  Downloading trio_websocket-0.12.2-py3-none-any.whl.metadata (5.1 kB)\n",
      "Requirement already satisfied: certifi>=2025.4.26 in c:\\users\\zenbook duo\\anaconda3\\envs\\llms\\lib\\site-packages (from selenium) (2025.4.26)\n",
      "Collecting typing_extensions~=4.14.0 (from selenium)\n",
      "  Downloading typing_extensions-4.14.0-py3-none-any.whl.metadata (3.0 kB)\n",
      "Requirement already satisfied: websocket-client~=1.8.0 in c:\\users\\zenbook duo\\anaconda3\\envs\\llms\\lib\\site-packages (from selenium) (1.8.0)\n",
      "Requirement already satisfied: attrs>=23.2.0 in c:\\users\\zenbook duo\\anaconda3\\envs\\llms\\lib\\site-packages (from trio~=0.30.0->selenium) (25.3.0)\n",
      "Collecting sortedcontainers (from trio~=0.30.0->selenium)\n",
      "  Downloading sortedcontainers-2.4.0-py2.py3-none-any.whl.metadata (10 kB)\n",
      "Requirement already satisfied: idna in c:\\users\\zenbook duo\\anaconda3\\envs\\llms\\lib\\site-packages (from trio~=0.30.0->selenium) (3.10)\n",
      "Collecting outcome (from trio~=0.30.0->selenium)\n",
      "  Downloading outcome-1.3.0.post0-py2.py3-none-any.whl.metadata (2.6 kB)\n",
      "Requirement already satisfied: sniffio>=1.3.0 in c:\\users\\zenbook duo\\anaconda3\\envs\\llms\\lib\\site-packages (from trio~=0.30.0->selenium) (1.3.1)\n",
      "Requirement already satisfied: cffi>=1.14 in c:\\users\\zenbook duo\\anaconda3\\envs\\llms\\lib\\site-packages (from trio~=0.30.0->selenium) (1.17.1)\n",
      "Collecting wsproto>=0.14 (from trio-websocket~=0.12.2->selenium)\n",
      "  Downloading wsproto-1.2.0-py3-none-any.whl.metadata (5.6 kB)\n",
      "Requirement already satisfied: pysocks!=1.5.7,<2.0,>=1.5.6 in c:\\users\\zenbook duo\\anaconda3\\envs\\llms\\lib\\site-packages (from urllib3[socks]~=2.4.0->selenium) (1.7.1)\n",
      "Requirement already satisfied: requests in c:\\users\\zenbook duo\\anaconda3\\envs\\llms\\lib\\site-packages (from webdriver-manager) (2.32.3)\n",
      "Requirement already satisfied: python-dotenv in c:\\users\\zenbook duo\\anaconda3\\envs\\llms\\lib\\site-packages (from webdriver-manager) (1.1.0)\n",
      "Requirement already satisfied: packaging in c:\\users\\zenbook duo\\appdata\\roaming\\python\\python311\\site-packages (from webdriver-manager) (24.2)\n",
      "Requirement already satisfied: pycparser in c:\\users\\zenbook duo\\anaconda3\\envs\\llms\\lib\\site-packages (from cffi>=1.14->trio~=0.30.0->selenium) (2.22)\n",
      "Requirement already satisfied: h11<1,>=0.9.0 in c:\\users\\zenbook duo\\anaconda3\\envs\\llms\\lib\\site-packages (from wsproto>=0.14->trio-websocket~=0.12.2->selenium) (0.16.0)\n",
      "Requirement already satisfied: charset_normalizer<4,>=2 in c:\\users\\zenbook duo\\anaconda3\\envs\\llms\\lib\\site-packages (from requests->webdriver-manager) (3.4.2)\n",
      "Downloading selenium-4.34.0-py3-none-any.whl (9.4 MB)\n",
      "   ---------------------------------------- 0.0/9.4 MB ? eta -:--:--\n",
      "   --- ------------------------------------ 0.8/9.4 MB 6.7 MB/s eta 0:00:02\n",
      "   ------- -------------------------------- 1.8/9.4 MB 5.6 MB/s eta 0:00:02\n",
      "   ------------- -------------------------- 3.1/9.4 MB 5.6 MB/s eta 0:00:02\n",
      "   ----------------- ---------------------- 4.2/9.4 MB 5.6 MB/s eta 0:00:01\n",
      "   ------------------------ --------------- 5.8/9.4 MB 5.8 MB/s eta 0:00:01\n",
      "   ---------------------------- ----------- 6.8/9.4 MB 5.8 MB/s eta 0:00:01\n",
      "   ---------------------------------- ----- 8.1/9.4 MB 5.9 MB/s eta 0:00:01\n",
      "   ---------------------------------------- 9.4/9.4 MB 5.8 MB/s eta 0:00:00\n",
      "Downloading trio-0.30.0-py3-none-any.whl (499 kB)\n",
      "Downloading trio_websocket-0.12.2-py3-none-any.whl (21 kB)\n",
      "Downloading typing_extensions-4.14.0-py3-none-any.whl (43 kB)\n",
      "Downloading webdriver_manager-4.0.2-py2.py3-none-any.whl (27 kB)\n",
      "Downloading outcome-1.3.0.post0-py2.py3-none-any.whl (10 kB)\n",
      "Downloading wsproto-1.2.0-py3-none-any.whl (24 kB)\n",
      "Downloading sortedcontainers-2.4.0-py2.py3-none-any.whl (29 kB)\n",
      "Installing collected packages: sortedcontainers, wsproto, typing_extensions, outcome, webdriver-manager, trio, trio-websocket, selenium\n",
      "\n",
      "   ----- ---------------------------------- 1/8 [wsproto]\n",
      "  Attempting uninstall: typing_extensions\n",
      "   ----- ---------------------------------- 1/8 [wsproto]\n",
      "    Found existing installation: typing_extensions 4.12.2\n",
      "   ----- ---------------------------------- 1/8 [wsproto]\n",
      "    Uninstalling typing_extensions-4.12.2:\n",
      "   ----- ---------------------------------- 1/8 [wsproto]\n",
      "   ---------- ----------------------------- 2/8 [typing_extensions]\n",
      "   ---------- ----------------------------- 2/8 [typing_extensions]\n",
      "   ---------- ----------------------------- 2/8 [typing_extensions]\n",
      "   ---------- ----------------------------- 2/8 [typing_extensions]\n",
      "      Successfully uninstalled typing_extensions-4.12.2\n",
      "   ---------- ----------------------------- 2/8 [typing_extensions]\n",
      "   ---------- ----------------------------- 2/8 [typing_extensions]\n",
      "   -------------------- ------------------- 4/8 [webdriver-manager]\n",
      "   ------------------------- -------------- 5/8 [trio]\n",
      "   ------------------------- -------------- 5/8 [trio]\n",
      "   ------------------------- -------------- 5/8 [trio]\n",
      "   ------------------------- -------------- 5/8 [trio]\n",
      "   ------------------------- -------------- 5/8 [trio]\n",
      "   ------------------------- -------------- 5/8 [trio]\n",
      "   ------------------------- -------------- 5/8 [trio]\n",
      "   ------------------------- -------------- 5/8 [trio]\n",
      "   ------------------------- -------------- 5/8 [trio]\n",
      "   ------------------------- -------------- 5/8 [trio]\n",
      "   ------------------------- -------------- 5/8 [trio]\n",
      "   ------------------------------ --------- 6/8 [trio-websocket]\n",
      "   ----------------------------------- ---- 7/8 [selenium]\n",
      "   ----------------------------------- ---- 7/8 [selenium]\n",
      "   ----------------------------------- ---- 7/8 [selenium]\n",
      "   ----------------------------------- ---- 7/8 [selenium]\n",
      "   ----------------------------------- ---- 7/8 [selenium]\n",
      "   ----------------------------------- ---- 7/8 [selenium]\n",
      "   ----------------------------------- ---- 7/8 [selenium]\n",
      "   ----------------------------------- ---- 7/8 [selenium]\n",
      "   ----------------------------------- ---- 7/8 [selenium]\n",
      "   ----------------------------------- ---- 7/8 [selenium]\n",
      "   ----------------------------------- ---- 7/8 [selenium]\n",
      "   ----------------------------------- ---- 7/8 [selenium]\n",
      "   ----------------------------------- ---- 7/8 [selenium]\n",
      "   ----------------------------------- ---- 7/8 [selenium]\n",
      "   ----------------------------------- ---- 7/8 [selenium]\n",
      "   ----------------------------------- ---- 7/8 [selenium]\n",
      "   ----------------------------------- ---- 7/8 [selenium]\n",
      "   ----------------------------------- ---- 7/8 [selenium]\n",
      "   ----------------------------------- ---- 7/8 [selenium]\n",
      "   ----------------------------------- ---- 7/8 [selenium]\n",
      "   ----------------------------------- ---- 7/8 [selenium]\n",
      "   ----------------------------------- ---- 7/8 [selenium]\n",
      "   ----------------------------------- ---- 7/8 [selenium]\n",
      "   ----------------------------------- ---- 7/8 [selenium]\n",
      "   ----------------------------------- ---- 7/8 [selenium]\n",
      "   ----------------------------------- ---- 7/8 [selenium]\n",
      "   ----------------------------------- ---- 7/8 [selenium]\n",
      "   ----------------------------------- ---- 7/8 [selenium]\n",
      "   ---------------------------------------- 8/8 [selenium]\n",
      "\n",
      "Successfully installed outcome-1.3.0.post0 selenium-4.34.0 sortedcontainers-2.4.0 trio-0.30.0 trio-websocket-0.12.2 typing_extensions-4.14.0 webdriver-manager-4.0.2 wsproto-1.2.0\n"
     ]
    }
   ],
   "source": [
    "#install selenium untuk render website \n",
    "%pip install selenium webdriver-manager"
   ]
  },
  {
   "cell_type": "code",
   "execution_count": 2,
   "id": "133ac500-ff35-4a7f-b508-d5232c137a33",
   "metadata": {},
   "outputs": [],
   "source": [
    "# System & Environment\n",
    "import os\n",
    "from dotenv import load_dotenv\n",
    "\n",
    "# Web Scraping\n",
    "import time\n",
    "from bs4 import BeautifulSoup\n",
    "from selenium import webdriver\n",
    "from selenium.webdriver.chrome.options import Options\n",
    "from selenium.webdriver.common.by import By\n",
    "from selenium.webdriver.support.ui import WebDriverWait\n",
    "from selenium.webdriver.support import expected_conditions as EC\n",
    "\n",
    "# AI environtment\n",
    "from IPython.display import Markdown, display\n",
    "from openai import OpenAI"
   ]
  },
  {
   "cell_type": "code",
   "execution_count": 5,
   "id": "2400e605-eab9-4092-8e16-89c5d7757698",
   "metadata": {},
   "outputs": [
    {
     "name": "stdout",
     "output_type": "stream",
     "text": [
      "✅ API key loaded successfully!\n"
     ]
    }
   ],
   "source": [
    "#model dan autentifikasi\n",
    "load_dotenv(override=True)\n",
    "api_key = os.getenv('OPENAI_API_KEY')\n",
    "\n",
    "if not api_key:\n",
    "   raise ValueError(\"OPENAI_API_KEY not found in environment variables\")\n",
    "\n",
    "print(\"✅ API key loaded successfully!\")\n",
    "openai = OpenAI()\n",
    "model = \"gpt-4o-mini\""
   ]
  },
  {
   "cell_type": "markdown",
   "id": "40fcc027-ea38-4e4e-a87c-011dcad67431",
   "metadata": {},
   "source": [
    "## WEBSCRAPPING"
   ]
  },
  {
   "cell_type": "code",
   "execution_count": 6,
   "id": "da5cab9f-79d6-40ac-ad59-36df49467aff",
   "metadata": {},
   "outputs": [],
   "source": [
    "#webscraping \n",
    "\n",
    "class WebsiteCrawler:\n",
    "    def __init__(self, url):\n",
    "        self.url = url\n",
    "        self.title = \"\"\n",
    "        self.text = \"\"\n",
    "        self.scrape()\n",
    "\n",
    "    def scrape(self):\n",
    "        try:\n",
    "            # Chrome options\n",
    "            chrome_options = Options()\n",
    "            chrome_options.add_argument(\"--headless\")\n",
    "            chrome_options.add_argument(\"--no-sandbox\")\n",
    "            chrome_options.add_argument(\"--disable-dev-shm-usage\")\n",
    "            chrome_options.add_argument(\"--disable-gpu\")\n",
    "            chrome_options.add_argument(\"--window-size=1920,1080\")\n",
    "            chrome_options.add_argument(\"--user-agent=Mozilla/5.0 (Windows NT 10.0; Win64; x64) AppleWebKit/537.36 (KHTML, like Gecko) Chrome/120.0.0.0 Safari/537.36\")\n",
    "\n",
    "            # Try to find Chrome\n",
    "            chrome_paths = [\n",
    "                r\"C:\\Program Files\\Google\\Chrome\\Application\\chrome.exe\",\n",
    "                r\"C:\\Program Files (x86)\\Google\\Chrome\\Application\\chrome.exe\",\n",
    "                r\"C:\\Users\\{}\\AppData\\Local\\Google\\Chrome\\Application\\chrome.exe\".format(os.getenv('USERNAME')),\n",
    "            ]\n",
    "\n",
    "            chrome_binary = None\n",
    "            for path in chrome_paths:\n",
    "                if os.path.exists(path):\n",
    "                    chrome_binary = path\n",
    "                    break\n",
    "\n",
    "            if chrome_binary:\n",
    "                chrome_options.binary_location = chrome_binary\n",
    "\n",
    "            # Create driver\n",
    "            driver = webdriver.Chrome(options=chrome_options)\n",
    "            driver.set_page_load_timeout(30)\n",
    "\n",
    "            print(f\"🔍 Loading: {self.url}\")\n",
    "            driver.get(self.url)\n",
    "\n",
    "            # Wait for page to load\n",
    "            time.sleep(5)\n",
    "\n",
    "            # Try to wait for main content\n",
    "            try:\n",
    "                WebDriverWait(driver, 10).until(\n",
    "                    EC.presence_of_element_located((By.TAG_NAME, \"main\"))\n",
    "                )\n",
    "            except Exception:\n",
    "                try:\n",
    "                    WebDriverWait(driver, 10).until(\n",
    "                        EC.presence_of_element_located((By.TAG_NAME, \"body\"))\n",
    "                    )\n",
    "                except Exception:\n",
    "                    pass  # Continue anyway\n",
    "\n",
    "            # Get title and page source\n",
    "            self.title = driver.title\n",
    "            page_source = driver.page_source\n",
    "            driver.quit()\n",
    "\n",
    "            print(f\"✅ Page loaded: {self.title}\")\n",
    "\n",
    "            # Parse with BeautifulSoup\n",
    "            soup = BeautifulSoup(page_source, 'html.parser')\n",
    "\n",
    "            # Remove unwanted elements\n",
    "            for element in soup([\"script\", \"style\", \"img\", \"input\", \"button\", \"nav\", \"footer\", \"header\"]):\n",
    "                element.decompose()\n",
    "\n",
    "            # Get main content\n",
    "            main = soup.find('main') or soup.find('article') or soup.find('.content') or soup.find('body')\n",
    "            if main:\n",
    "                self.text = main.get_text(separator=\"\\n\", strip=True)\n",
    "            else:\n",
    "                self.text = soup.get_text(separator=\"\\n\", strip=True)\n",
    "\n",
    "            # Clean up text\n",
    "            lines = [line.strip() for line in self.text.split('\\n') if line.strip() and len(line.strip()) > 2]\n",
    "            self.text = '\\n'.join(lines[:200])  # Limit to first 200 lines\n",
    "\n",
    "            print(f\"📄 Extracted {len(self.text)} characters\")\n",
    "\n",
    "        except Exception as e:\n",
    "            print(f\"❌ Error occurred: {e}\")\n",
    "            self.title = \"Error occurred\"\n",
    "            self.text = \"Could not scrape website content\"\n",
    "\n"
   ]
  },
  {
   "cell_type": "markdown",
   "id": "23756798-4f82-4d12-ab99-a6f28a4e0d6e",
   "metadata": {},
   "source": [
    "## INISIASI PROMPT "
   ]
  },
  {
   "cell_type": "code",
   "execution_count": 7,
   "id": "ba870b3d-3b4b-4200-b65d-c2051aa2e5d7",
   "metadata": {},
   "outputs": [],
   "source": [
    "system_prompt = \"Anda adalah asisten AI yang mampu menganalisa sebuah website \\\n",
    "dan memberikan ringkasan dengan detail dan baik. Anda juga mampu memberikan uraian ringkasan dalam bentuk markdown.\""
   ]
  },
  {
   "cell_type": "code",
   "execution_count": 8,
   "id": "d0ad729d-ed60-4893-b775-e208cf447c39",
   "metadata": {},
   "outputs": [],
   "source": [
    "def user_prompt_for(website):\n",
    "    user_prompt = f\"You are looking at a website titled {website.title}\"\n",
    "    user_prompt += \"\\nThe contents of this website is as follows; please provide a short summary of this website in markdown. If it includes news or announcements, then summarize these too.\\n\\n\"\n",
    "    user_prompt += website.text\n",
    "    return user_prompt"
   ]
  },
  {
   "cell_type": "code",
   "execution_count": 9,
   "id": "fb02fce9-3dec-4fc2-a5d4-bdde0de82062",
   "metadata": {},
   "outputs": [],
   "source": [
    "def message_for(website):\n",
    "    return[\n",
    "        {\"role\": \"system\", \"content\": system_prompt},\n",
    "        {\"role\": \"user\", \"content\": user_prompt_for(website)},\n",
    "    ]"
   ]
  },
  {
   "cell_type": "markdown",
   "id": "7e2ff716-a8f5-4aa5-8752-6e699ae1af0a",
   "metadata": {},
   "source": [
    "## FUNGSI SUMMARY"
   ]
  },
  {
   "cell_type": "code",
   "execution_count": 10,
   "id": "fd9ea9d6-cb7a-4826-96e7-cd3091a44ed3",
   "metadata": {},
   "outputs": [
    {
     "name": "stdout",
     "output_type": "stream",
     "text": [
      "🔍 Loading: https://rumahcoding.co.id\n",
      "✅ Page loaded: Profesional Training Web, Mobile App dan Data Science untuk Perusahaan - Rumah Coding\n",
      "📄 Extracted 300 characters\n",
      "🤖 Creating summary...\n"
     ]
    },
    {
     "data": {
      "text/markdown": [
       "# Ringkasan Website: Profesional Training Web, Mobile App dan Data Science untuk Perusahaan - Rumah Coding\n",
       "\n",
       "Website ini menawarkan program pelatihan profesional di bidang pengembangan web, aplikasi mobile, dan data science khusus untuk perusahaan. Fokus utamanya adalah mengembangkan keterampilan backend yang penting dalam teknologi informasi.\n",
       "\n",
       "## Konten Utama:\n",
       "- **Pengembangan Backend**: \n",
       "  - Menjelaskan proses pembuatan dan pengelolaan bagian aplikasi yang tidak terlihat oleh pengguna akhir.\n",
       "  - Menyentuh aspek-aspek seperti server, database, dan komponen lain yang menyokong fungsi dan logika aplikasi.\n",
       "\n",
       "## Berita dan Pengumuman:\n",
       "Tidak ada berita atau pengumuman khusus yang disebutkan dalam konten yang disediakan. \n",
       "\n",
       "Website ini mengedukasi perusahaan tentang pentingnya pengembangan teknologi dan menyediakan pelatihan yang relevan untuk meningkatkan kapabilitas mereka dalam dunia digital."
      ],
      "text/plain": [
       "<IPython.core.display.Markdown object>"
      ]
     },
     "metadata": {},
     "output_type": "display_data"
    }
   ],
   "source": [
    "def summarize(url):\n",
    "    \"\"\"Scrape website and summarize with GPT\"\"\"\n",
    "    site = WebsiteCrawler(url)\n",
    "\n",
    "    if \"Error occurred\" in site.title or len(site.text) < 50:\n",
    "        print(f\"❌ Failed to scrape meaningful content from {url}\")\n",
    "        return\n",
    "\n",
    "    print(\"🤖 Creating summary...\")\n",
    "\n",
    "    # Create summary\n",
    "    response = openai.chat.completions.create(\n",
    "        model= model,\n",
    "        messages=[\n",
    "            {\"role\": \"system\", \"content\": system_prompt},\n",
    "            {\"role\": \"user\", \"content\": user_prompt_for(site)}\n",
    "        ]\n",
    "    )\n",
    "\n",
    "    web_summary = response.choices[0].message.content\n",
    "    display(Markdown(web_summary))\n",
    "\n",
    "summarize('https://rumahcoding.co.id')"
   ]
  },
  {
   "cell_type": "code",
   "execution_count": null,
   "id": "b116b10d-a934-4911-bd15-583841ae530d",
   "metadata": {},
   "outputs": [],
   "source": []
  }
 ],
 "metadata": {
  "kernelspec": {
   "display_name": "Python 3 (ipykernel)",
   "language": "python",
   "name": "python3"
  },
  "language_info": {
   "codemirror_mode": {
    "name": "ipython",
    "version": 3
   },
   "file_extension": ".py",
   "mimetype": "text/x-python",
   "name": "python",
   "nbconvert_exporter": "python",
   "pygments_lexer": "ipython3",
   "version": "3.11.13"
  }
 },
 "nbformat": 4,
 "nbformat_minor": 5
}
